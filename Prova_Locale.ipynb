{
  "nbformat": 4,
  "nbformat_minor": 0,
  "metadata": {
    "colab": {
      "provenance": [],
      "authorship_tag": "ABX9TyNLQr41Epec+isZCmvPTR8t",
      "include_colab_link": true
    },
    "kernelspec": {
      "name": "python3",
      "display_name": "Python 3"
    },
    "language_info": {
      "name": "python"
    }
  },
  "cells": [
    {
      "cell_type": "markdown",
      "metadata": {
        "id": "view-in-github",
        "colab_type": "text"
      },
      "source": [
        "<a href=\"https://colab.research.google.com/github/szacchino/Lezione200219/blob/master/Prova_Locale.ipynb\" target=\"_parent\"><img src=\"https://colab.research.google.com/assets/colab-badge.svg\" alt=\"Open In Colab\"/></a>"
      ]
    },
    {
      "cell_type": "code",
      "execution_count": 2,
      "metadata": {
        "colab": {
          "base_uri": "https://localhost:8080/"
        },
        "id": "D0FglmVeBgHU",
        "outputId": "7e888786-f858-4a65-8cc1-ed92c5bd84a5"
      },
      "outputs": [
        {
          "output_type": "stream",
          "name": "stdout",
          "text": [
            "Writing test.txt\n"
          ]
        }
      ],
      "source": [
        "%%writefile test.txt\n",
        "Hello, this is a quick test file.\n"
      ]
    },
    {
      "cell_type": "markdown",
      "source": [
        "# Collegarsi ad un runtime locale\n",
        "\n",
        "```\n",
        "  jupyter notebook \\\n",
        "    --NotebookApp.allow_origin='https://colab.research.google.com' \\\n",
        "    --port=8888 \\\n",
        "    --NotebookApp.port_retries=0\n",
        "```"
      ],
      "metadata": {
        "id": "LMn2bfCADtvb"
      }
    },
    {
      "cell_type": "code",
      "source": [],
      "metadata": {
        "id": "z_gFxK5WC7LI"
      },
      "execution_count": null,
      "outputs": []
    }
  ]
}